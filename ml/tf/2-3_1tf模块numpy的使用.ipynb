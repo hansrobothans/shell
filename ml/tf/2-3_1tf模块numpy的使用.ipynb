{
 "cells": [
  {
   "cell_type": "code",
   "execution_count": 29,
   "metadata": {},
   "outputs": [
    {
     "name": "stdout",
     "output_type": "stream",
     "text": [
      "[[2. 3. 4.]\n",
      " [5. 6. 7.]]\n",
      "[[1. 2. 3.]\n",
      " [4. 5. 6.]]\n"
     ]
    }
   ],
   "source": [
    "import numpy as np\n",
    "data1 = np.array([1,2,3,4,5])\n",
    "#print(data1)\n",
    "data2 = np.array([[1,2],\n",
    "                  [3,4]])\n",
    "#print(data2)\n",
    "#print(\"\\n\")\n",
    "#维度\n",
    "#print(data1.shape,data2.shape,\"\\n\")\n",
    "#空矩阵\n",
    "#print(np.zeros([2,3]),\"\\n\"*2,np.ones([2,2]))\n",
    "#矩阵 改\n",
    "data2[1,0] = 5\n",
    "#print(data2)\n",
    "#矩阵查\n",
    "#print(data2[1,1])\n",
    "#数和矩阵 基本运算 \n",
    "data3 = np.ones([2,3])\n",
    "#print(data3*2)\n",
    "#print(data3/3)\n",
    "#print(data3+2)\n",
    "#print(data3-1)\n",
    "#矩阵的+ *\n",
    "data4 = np.array([[1,2,3],[4,5,6]])\n",
    "print(data3+data4)\n",
    "print(data3*data4)"
   ]
  },
  {
   "cell_type": "code",
   "execution_count": null,
   "metadata": {},
   "outputs": [],
   "source": []
  }
 ],
 "metadata": {
  "kernelspec": {
   "display_name": "Python 3",
   "language": "python",
   "name": "python3"
  },
  "language_info": {
   "codemirror_mode": {
    "name": "ipython",
    "version": 3
   },
   "file_extension": ".py",
   "mimetype": "text/x-python",
   "name": "python",
   "nbconvert_exporter": "python",
   "pygments_lexer": "ipython3",
   "version": "3.7.3"
  }
 },
 "nbformat": 4,
 "nbformat_minor": 2
}
