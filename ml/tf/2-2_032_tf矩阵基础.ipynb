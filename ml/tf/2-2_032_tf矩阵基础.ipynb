{
 "cells": [
  {
   "cell_type": "code",
   "execution_count": 5,
   "metadata": {},
   "outputs": [
    {
     "name": "stdout",
     "output_type": "stream",
     "text": [
      "[[24]]\n",
      "[[9 9]]\n",
      "[[12 12]\n",
      " [12 12]]\n",
      "[array([[24]]), array([[9, 9]])]\n"
     ]
    }
   ],
   "source": [
    "import tensorflow as tf\n",
    "\n",
    "data1 = tf.constant([[6,6]])\n",
    "data2 = tf.constant([[2],\n",
    "                     [2]])\n",
    "\n",
    "data3 = tf.constant([[3,3]])\n",
    "data4 = tf.constant([[1,2],\n",
    "                     [3,4],\n",
    "                     [5,6]])\n",
    "\n",
    "matmul = tf.matmul(data1,data2)\n",
    "matmul2 = tf.multiply(data1,data2)\n",
    "matadd = tf.add(data1,data3)\n",
    "\n",
    "#dataadd = tf.ad\n",
    "\n",
    "with tf.Session() as sess:\n",
    "    print(sess.run(matmul)) #一维\n",
    "    print(sess.run(matadd)) #一行两列 \n",
    "    print(sess.run(matmul2)) #1x2 2x1 = 2x2\n",
    "    print(sess.run([matmul,matadd]))"
   ]
  },
  {
   "cell_type": "code",
   "execution_count": null,
   "metadata": {},
   "outputs": [],
   "source": []
  }
 ],
 "metadata": {
  "kernelspec": {
   "display_name": "Python 3",
   "language": "python",
   "name": "python3"
  },
  "language_info": {
   "codemirror_mode": {
    "name": "ipython",
    "version": 3
   },
   "file_extension": ".py",
   "mimetype": "text/x-python",
   "name": "python",
   "nbconvert_exporter": "python",
   "pygments_lexer": "ipython3",
   "version": "3.7.3"
  }
 },
 "nbformat": 4,
 "nbformat_minor": 2
}
