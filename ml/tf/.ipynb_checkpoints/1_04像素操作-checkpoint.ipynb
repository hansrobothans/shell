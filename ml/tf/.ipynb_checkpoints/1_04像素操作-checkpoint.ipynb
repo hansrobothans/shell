{
 "cells": [
  {
   "cell_type": "code",
   "execution_count": null,
   "metadata": {},
   "outputs": [],
   "source": [
    "import cv2\n",
    "#1 文件的读取 2 封装格式解析 3 数据解码 4 数据加载\n",
    "img = cv2.imread('2.jpg',1)#图片读取，第一个参数，图片名称，第二个参数 0-gray 1-color\n",
    "cv2.imshow('image',img)#第一个参数，新建窗口的名称，第二个窗口显示的图片\n",
    "#jpg png 1 文件头 2 文件数据\n",
    "cv2.waitKey(0)"
   ]
  },
  {
   "cell_type": "code",
   "execution_count": 4,
   "metadata": {},
   "outputs": [
    {
     "data": {
      "text/plain": [
       "True"
      ]
     },
     "execution_count": 4,
     "metadata": {},
     "output_type": "execute_result"
    }
   ],
   "source": [
    "import cv2\n",
    "img = cv2.imread('1.jpg',1)\n",
    "cv2.imwrite('1_1.jpg',img)   #1 写入图片的名称 2 数据"
   ]
  },
  {
   "cell_type": "code",
   "execution_count": 3,
   "metadata": {},
   "outputs": [
    {
     "data": {
      "text/plain": [
       "True"
      ]
     },
     "execution_count": 3,
     "metadata": {},
     "output_type": "execute_result"
    }
   ],
   "source": [
    "import cv2\n",
    "img = cv2.imread('1.jpg',1)\n",
    "cv2.imwrite('1_text.jpg',img,[cv2.IMWRITE_JPEG_QUALITY,50])\n",
    "#1M -> 100k还能保持原来特性    cv2.IMWRITE_JPEG_QUALITY,50有损压缩 0-100k"
   ]
  },
  {
   "cell_type": "code",
   "execution_count": 7,
   "metadata": {},
   "outputs": [
    {
     "data": {
      "text/plain": [
       "True"
      ]
     },
     "execution_count": 7,
     "metadata": {},
     "output_type": "execute_result"
    }
   ],
   "source": [
    "#1 jpg 有损压缩，png无损压缩 2 jpg无法设置图片透明程度 png有透明度属性\n",
    "import cv2\n",
    "img = cv2.imread('1.jpg',1)\n",
    "cv2.imwrite('1_text.png',img,[cv2.IMWRITE_PNG_COMPRESSION,9])\n",
    "#jpg 0 压缩比高0-100 图片损失严重  png 0 压缩比越低 0-9"
   ]
  },
  {
   "cell_type": "code",
   "execution_count": 1,
   "metadata": {},
   "outputs": [
    {
     "name": "stdout",
     "output_type": "stream",
     "text": [
      "235 113 113\n"
     ]
    },
    {
     "data": {
      "text/plain": [
       "-1"
      ]
     },
     "execution_count": 1,
     "metadata": {},
     "output_type": "execute_result"
    }
   ],
   "source": [
    "import cv2\n",
    "img = cv2.imread('1.jpg',1)\n",
    "cv2.imwrite('1_x.jpg',img,[cv2.IMWRITE_JPEG_CHROMA_QUALITY,100])\n",
    "(b,g,r) = img[100,100]\n",
    "print(b,g,r)\n",
    "#绘制一条直线 （10，100）->（110，100）\n",
    "img2 = cv2.imread('1_x.jpg',1)\n",
    "for i in range(300):\n",
    "    img2[100+i,100] = (0,0,0)\n",
    "cv2.imshow('img2',img2)\n",
    "cv2.waitKey(1000) #1000ms"
   ]
  }
 ],
 "metadata": {
  "kernelspec": {
   "display_name": "Python 3",
   "language": "python",
   "name": "python3"
  },
  "language_info": {
   "codemirror_mode": {
    "name": "ipython",
    "version": 3
   },
   "file_extension": ".py",
   "mimetype": "text/x-python",
   "name": "python",
   "nbconvert_exporter": "python",
   "pygments_lexer": "ipython3",
   "version": "3.7.3"
  }
 },
 "nbformat": 4,
 "nbformat_minor": 2
}
