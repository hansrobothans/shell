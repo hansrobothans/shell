{
 "cells": [
  {
   "cell_type": "code",
   "execution_count": 6,
   "metadata": {},
   "outputs": [
    {
     "name": "stdout",
     "output_type": "stream",
     "text": [
      "8\n",
      "12\n",
      "4\n",
      "3.0\n",
      "end\n"
     ]
    }
   ],
   "source": [
    "import tensorflow as tf\n",
    "data1 = tf.constant(6)\n",
    "data2 = tf.constant(2)\n",
    "dataadd = tf.add(data1,data2)\n",
    "datamul = tf.multiply(data1,data2)\n",
    "datasub = tf.subtract(data1,data2)\n",
    "datadiv = tf.divide(data1,data2)\n",
    "with  tf.Session() as sess:\n",
    "    print(sess.run(dataadd))\n",
    "    print(sess.run(datamul))\n",
    "    print(sess.run(datasub))\n",
    "    print(sess.run(datadiv))\n",
    "print('end')"
   ]
  },
  {
   "cell_type": "code",
   "execution_count": 1,
   "metadata": {},
   "outputs": [
    {
     "name": "stdout",
     "output_type": "stream",
     "text": [
      "WARNING:tensorflow:From C:\\Users\\hans\\.conda\\envs\\tf\\lib\\site-packages\\tensorflow\\python\\framework\\op_def_library.py:263: colocate_with (from tensorflow.python.framework.ops) is deprecated and will be removed in a future version.\n",
      "Instructions for updating:\n",
      "Colocations handled automatically by placer.\n",
      "8\n",
      "12\n",
      "4\n",
      "3.0\n",
      "sess.run(datacopy) 8\n",
      "sess.run(datacopy.eval()) 14\n",
      "tf.get_default_session.run(datacopy) 20\n",
      "end\n"
     ]
    }
   ],
   "source": [
    "import tensorflow as tf\n",
    "data1 = tf.constant(6)\n",
    "data2 = tf.Variable(2)\n",
    "dataadd = tf.add(data1,data2)\n",
    "datacopy = tf.assign(data2,dataadd)#把dataadd放到data2\n",
    "datamul = tf.multiply(data1,data2)\n",
    "datasub = tf.subtract(data1,data2)\n",
    "datadiv = tf.divide(data1,data2)\n",
    "init = tf.global_variables_initializer()\n",
    "with  tf.Session() as sess:\n",
    "    sess.run(init) \n",
    "    print(sess.run(dataadd))\n",
    "    print(sess.run(datamul))\n",
    "    print(sess.run(datasub))\n",
    "    print(sess.run(datadiv))\n",
    "    print(\"sess.run(datacopy)\",sess.run(datacopy))\n",
    "    print(\"sess.run(datacopy.eval())\",datacopy.eval())#直接运算，相当于tf.get_default_session().run(datacopy))\n",
    "    print(\"tf.get_default_session.run(datacopy)\",tf.get_default_session().run(datacopy))#调用默认的session\n",
    "print('end')"
   ]
  },
  {
   "cell_type": "code",
   "execution_count": null,
   "metadata": {},
   "outputs": [],
   "source": []
  }
 ],
 "metadata": {
  "kernelspec": {
   "display_name": "Python 3",
   "language": "python",
   "name": "python3"
  },
  "language_info": {
   "codemirror_mode": {
    "name": "ipython",
    "version": 3
   },
   "file_extension": ".py",
   "mimetype": "text/x-python",
   "name": "python",
   "nbconvert_exporter": "python",
   "pygments_lexer": "ipython3",
   "version": "3.7.3"
  }
 },
 "nbformat": 4,
 "nbformat_minor": 2
}
