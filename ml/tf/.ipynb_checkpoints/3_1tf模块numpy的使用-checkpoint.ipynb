{
 "cells": [
  {
   "cell_type": "code",
   "execution_count": 20,
   "metadata": {},
   "outputs": [
    {
     "name": "stdout",
     "output_type": "stream",
     "text": [
      "[1 2 3 4 5]\n",
      "[[1 2]\n",
      " [3 4]]\n",
      "\n",
      "\n",
      "(5,) (2, 2) \n",
      "\n",
      "[[0. 0. 0.]\n",
      " [0. 0. 0.]] \n",
      "\n",
      " [[1. 1.]\n",
      " [1. 1.]]\n",
      "[[1 2]\n",
      " [5 4]]\n",
      "4\n",
      "[[2. 2. 2.]\n",
      " [2. 2. 2.]]\n"
     ]
    }
   ],
   "source": [
    "import numpy as np\n",
    "data1 = np.array([1,2,3,4,5])\n",
    "print(data1)\n",
    "data2 = np.array([[1,2],\n",
    "                  [3,4]])\n",
    "print(data2)\n",
    "print(\"\\n\")\n",
    "#维度\n",
    "print(data1.shape,data2.shape,\"\\n\")\n",
    "#空矩阵\n",
    "print(np.zeros([2,3]),\"\\n\"*2,np.ones([2,2]))\n",
    "#矩阵 改\n",
    "data2[1,0] = 5\n",
    "print(data2)\n",
    "#矩阵查\n",
    "print(data2[1,1])\n",
    "#矩阵基本运算 \n",
    "#加\n",
    "data3 = np.ones([2,3])\n",
    "print(data3*2)\n",
    "print(data3/3)"
   ]
  },
  {
   "cell_type": "code",
   "execution_count": null,
   "metadata": {},
   "outputs": [],
   "source": []
  }
 ],
 "metadata": {
  "kernelspec": {
   "display_name": "Python 3",
   "language": "python",
   "name": "python3"
  },
  "language_info": {
   "codemirror_mode": {
    "name": "ipython",
    "version": 3
   },
   "file_extension": ".py",
   "mimetype": "text/x-python",
   "name": "python",
   "nbconvert_exporter": "python",
   "pygments_lexer": "ipython3",
   "version": "3.7.3"
  }
 },
 "nbformat": 4,
 "nbformat_minor": 2
}
