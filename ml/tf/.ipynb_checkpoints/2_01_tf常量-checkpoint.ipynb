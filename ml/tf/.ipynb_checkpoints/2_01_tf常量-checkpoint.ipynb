{
 "cells": [
  {
   "cell_type": "code",
   "execution_count": 8,
   "metadata": {},
   "outputs": [
    {
     "name": "stdout",
     "output_type": "stream",
     "text": [
      "Tensor(\"Const_6:0\", shape=(), dtype=float32)\n",
      "<tf.Variable 'var_5:0' shape=() dtype=int32_ref>\n",
      "2.5\n",
      "10\n"
     ]
    }
   ],
   "source": [
    "#opencv tensorflow\n",
    "#类比 语法 api 原理\n",
    "#基础数据类型 运算符 流程 字典 数组\n",
    "\n",
    "\n",
    "import tensorflow as tf\n",
    "data1 = tf.constant(2.5) #data1 = tf.constant(2,dtype=tf.int32)\n",
    "data2 = tf.Variable(10,name='var')\n",
    "print(data1)\n",
    "print(data2)\n",
    "sess = tf.Session()\n",
    "print(sess.run(data1))\n",
    "init = tf.global_variables_initializer()\n",
    "#变量要使用必须先初始化\n",
    "sess.run(init)\n",
    "print(sess.run(data2))"
   ]
  },
  {
   "cell_type": "code",
   "execution_count": null,
   "metadata": {},
   "outputs": [],
   "source": []
  }
 ],
 "metadata": {
  "kernelspec": {
   "display_name": "Python 3",
   "language": "python",
   "name": "python3"
  },
  "language_info": {
   "codemirror_mode": {
    "name": "ipython",
    "version": 3
   },
   "file_extension": ".py",
   "mimetype": "text/x-python",
   "name": "python",
   "nbconvert_exporter": "python",
   "pygments_lexer": "ipython3",
   "version": "3.7.3"
  }
 },
 "nbformat": 4,
 "nbformat_minor": 2
}
