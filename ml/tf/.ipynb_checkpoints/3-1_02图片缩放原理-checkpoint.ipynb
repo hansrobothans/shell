{
 "cells": [
  {
   "cell_type": "code",
   "execution_count": 1,
   "metadata": {},
   "outputs": [
    {
     "name": "stdout",
     "output_type": "stream",
     "text": [
      "(346, 500, 3)\n"
     ]
    },
    {
     "data": {
      "text/plain": [
       "32"
      ]
     },
     "execution_count": 1,
     "metadata": {},
     "output_type": "execute_result"
    }
   ],
   "source": [
    "# 1 load 2 info获取图片信息 3 resize 4 check\n",
    "import cv2\n",
    "img = cv2.imread('2.jpg',1)\n",
    "imgInfo = img.shape\n",
    "print(imgInfo)\n",
    "height = imgInfo[0]\n",
    "width = imgInfo[1]\n",
    "mode = imgInfo[2]\n",
    "# 1 放大 缩小 2等比例 非等比例\n",
    "dstHeight = int(height*0.5)\n",
    "dstWidth = int(width*0.5)\n",
    "\n",
    "#最近邻域插值  双线性插值(常用) 像素关系重采样 立方插值\n",
    "dst = cv2.resize(img,(dstWidth,dstHeight))\n",
    "cv2.imshow('image1',dst) \n",
    "cv2.imshow('image2',img) \n",
    "cv2.waitKey(0)"
   ]
  },
  {
   "cell_type": "code",
   "execution_count": null,
   "metadata": {},
   "outputs": [],
   "source": [
    " "
   ]
  }
 ],
 "metadata": {
  "kernelspec": {
   "display_name": "Python 3",
   "language": "python",
   "name": "python3"
  },
  "language_info": {
   "codemirror_mode": {
    "name": "ipython",
    "version": 3
   },
   "file_extension": ".py",
   "mimetype": "text/x-python",
   "name": "python",
   "nbconvert_exporter": "python",
   "pygments_lexer": "ipython3",
   "version": "3.6.8"
  }
 },
 "nbformat": 4,
 "nbformat_minor": 2
}
